{
 "cells": [
  {
   "cell_type": "code",
   "execution_count": 10,
   "metadata": {},
   "outputs": [],
   "source": [
    "import pandas as pd\n",
    "from pandas import ExcelWriter\n",
    "from pandas import ExcelFile\n",
    "import pygal"
   ]
  },
  {
   "cell_type": "code",
   "execution_count": 21,
   "metadata": {},
   "outputs": [],
   "source": [
    "def plotgraph(filename):\n",
    "    \"\"\"\n",
    "        plot graph\n",
    "    \"\"\"\n",
    "    dataframe = pd.read_excel(filename)\n",
    "    lst_year = dataframe.ix[0].index.values[1:].tolist()\n",
    "    country = dataframe['Country']\n",
    "\n",
    "#     print(dataframe[2550])\n",
    "    bar_chart = pygal.Line()\n",
    "    bar_chart.title = filename[8].upper() + filename[9:-13]\n",
    "    bar_chart.x_labels = map(str, lst_year)\n",
    "\n",
    "    for i in range(len(dataframe)):\n",
    "        bar_chart.add(country[i], dataframe.ix[i][1:])\n",
    "    bar_chart.render_to_file(\"chart/\"+filename[7:-5]+\".svg\")"
   ]
  },
  {
   "cell_type": "code",
   "execution_count": 22,
   "metadata": {},
   "outputs": [],
   "source": [
    "%matplotlib inline\n",
    "from IPython.display import SVG, HTML\n"
   ]
  },
  {
   "cell_type": "code",
   "execution_count": 23,
   "metadata": {},
   "outputs": [],
   "source": []
  },
  {
   "cell_type": "code",
   "execution_count": 25,
   "metadata": {},
   "outputs": [
    {
     "name": "stderr",
     "output_type": "stream",
     "text": [
      "/home/jusmistic/.local/lib/python3.5/site-packages/ipykernel_launcher.py:6: DeprecationWarning: \n",
      ".ix is deprecated. Please use\n",
      ".loc for label based indexing or\n",
      ".iloc for positional indexing\n",
      "\n",
      "See the documentation here:\n",
      "http://pandas.pydata.org/pandas-docs/stable/indexing.html#ix-indexer-is-deprecated\n",
      "  \n"
     ]
    }
   ],
   "source": [
    "def main():\n",
    "    \"\"\"\n",
    "        main function\n",
    "    \"\"\"\n",
    "    files = [filename for filename in open(\"dataset/file.txt\")]\n",
    "    for item in files:\n",
    "        plotgraph(\"dataset/\" + item.strip(\"\\n\"))\n",
    "\n",
    "main()\n",
    "\n",
    "\n"
   ]
  },
  {
   "cell_type": "code",
   "execution_count": null,
   "metadata": {},
   "outputs": [],
   "source": []
  }
 ],
 "metadata": {
  "kernelspec": {
   "display_name": "Python 3",
   "language": "python",
   "name": "python3"
  },
  "language_info": {
   "codemirror_mode": {
    "name": "ipython",
    "version": 3
   },
   "file_extension": ".py",
   "mimetype": "text/x-python",
   "name": "python",
   "nbconvert_exporter": "python",
   "pygments_lexer": "ipython3",
   "version": "3.5.4"
  }
 },
 "nbformat": 4,
 "nbformat_minor": 2
}
